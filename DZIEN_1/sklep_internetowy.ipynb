{
 "cells":[
  {
   "cell_type":"markdown",
   "source":[
    "# Analiza sprzedaży w sklepie internetowym"
   ],
   "attachments":{},
   "metadata":{
    "datalore":{
     "node_id":"sOR0aP0UFdBTkrhnFKTVOA",
     "type":"MD",
     "hide_input_from_viewers":true,
     "hide_output_from_viewers":true
    }
   }
  },
  {
   "cell_type":"code",
   "source":[
    "import pandas as pd"
   ],
   "execution_count":1,
   "outputs":[],
   "metadata":{
    "datalore":{
     "node_id":"3CC4uJTEhtQ2RN0PPnjKYU",
     "type":"CODE",
     "hide_input_from_viewers":true,
     "hide_output_from_viewers":true
    }
   }
  },
  {
   "cell_type":"code",
   "source":[
    "data = {\n",
    "    \"order_id\":[101,102,103,104,105,106,107],\n",
    "    \"customer\":[\"Ewa\",\"Marcin\",\"Ewa\",\"Tomek\",\"Anna\",\"Ewa\",\"Marcin\"],\n",
    "    \"category\":[\"electronics\",\"books\",\"books\",\"electonics\",\"books\",\"sports\",\"books\"],\n",
    "    \"amount\":[1200,67,101,879,45,899,213],\n",
    "    \"order_date\":pd.to_datetime([\"2025-08-01\",\"2025-08-01\",\"2025-08-02\",\"2025-08-02\",\"2025-08-05\",\"2025-08-06\",\"2025-08-07\"])\n",
    "}"
   ],
   "execution_count":8,
   "outputs":[],
   "metadata":{
    "datalore":{
     "node_id":"zHQLWUcafP41YnGRx7BjDV",
     "type":"CODE",
     "hide_input_from_viewers":true,
     "hide_output_from_viewers":true
    }
   }
  },
  {
   "cell_type":"code",
   "source":[
    "df = pd.DataFrame(data)\n",
    "df.head()"
   ],
   "execution_count":9,
   "outputs":[
    {
     "data":{
      "text\/html":[
       "<div>\n",
       "<style scoped>\n",
       "    .dataframe tbody tr th:only-of-type {\n",
       "        vertical-align: middle;\n",
       "    }\n",
       "\n",
       "    .dataframe tbody tr th {\n",
       "        vertical-align: top;\n",
       "    }\n",
       "\n",
       "    .dataframe thead th {\n",
       "        text-align: right;\n",
       "    }\n",
       "<\/style>\n",
       "<table border=\"1\" class=\"dataframe\">\n",
       "  <thead>\n",
       "    <tr style=\"text-align: right;\">\n",
       "      <th><\/th>\n",
       "      <th>order_id<\/th>\n",
       "      <th>customer<\/th>\n",
       "      <th>category<\/th>\n",
       "      <th>amount<\/th>\n",
       "      <th>order_date<\/th>\n",
       "    <\/tr>\n",
       "  <\/thead>\n",
       "  <tbody>\n",
       "    <tr>\n",
       "      <th>0<\/th>\n",
       "      <td>101<\/td>\n",
       "      <td>Ewa<\/td>\n",
       "      <td>electronics<\/td>\n",
       "      <td>1200<\/td>\n",
       "      <td>2025-08-01<\/td>\n",
       "    <\/tr>\n",
       "    <tr>\n",
       "      <th>1<\/th>\n",
       "      <td>102<\/td>\n",
       "      <td>Marcin<\/td>\n",
       "      <td>books<\/td>\n",
       "      <td>67<\/td>\n",
       "      <td>2025-08-01<\/td>\n",
       "    <\/tr>\n",
       "    <tr>\n",
       "      <th>2<\/th>\n",
       "      <td>103<\/td>\n",
       "      <td>Ewa<\/td>\n",
       "      <td>books<\/td>\n",
       "      <td>101<\/td>\n",
       "      <td>2025-08-02<\/td>\n",
       "    <\/tr>\n",
       "    <tr>\n",
       "      <th>3<\/th>\n",
       "      <td>104<\/td>\n",
       "      <td>Tomek<\/td>\n",
       "      <td>electonics<\/td>\n",
       "      <td>879<\/td>\n",
       "      <td>2025-08-02<\/td>\n",
       "    <\/tr>\n",
       "    <tr>\n",
       "      <th>4<\/th>\n",
       "      <td>105<\/td>\n",
       "      <td>Anna<\/td>\n",
       "      <td>books<\/td>\n",
       "      <td>45<\/td>\n",
       "      <td>2025-08-05<\/td>\n",
       "    <\/tr>\n",
       "  <\/tbody>\n",
       "<\/table>\n",
       "<\/div>"
      ]
     },
     "metadata":{},
     "output_type":"display_data"
    }
   ],
   "metadata":{
    "datalore":{
     "node_id":"ADiHH6EFKqRcOm8pW4sEcX",
     "type":"CODE",
     "hide_input_from_viewers":true,
     "hide_output_from_viewers":true
    }
   }
  },
  {
   "cell_type":"code",
   "source":[
    "#filtrowanie\n",
    "books_only = df[df[\"category\"]==\"books\"]\n",
    "\n",
    "#dodanie kolumny z VAT\n",
    "df[\"VAT_23\"] = df[\"amount\"]*0.23\n",
    "\n",
    "#grupowanie po kliencie i kategoriach\n",
    "summary = (\n",
    "    df.groupby([\"customer\",\"category\"])\n",
    "    .agg(total_spent=(\"amount\",\"sum\"),orders = (\"order_id\",\"count\"))\n",
    "    .reset_index()\n",
    ")\n",
    "\n",
    "#sortowanie po najwięszych zakupach\n",
    "top_spenders = summary.sort_values(by=\"total_spent\",ascending=False)"
   ],
   "execution_count":11,
   "outputs":[],
   "metadata":{
    "datalore":{
     "node_id":"RYEaBP2qzUGaTnFw1xsBg1",
     "type":"CODE",
     "hide_input_from_viewers":true,
     "hide_output_from_viewers":true
    }
   }
  },
  {
   "cell_type":"code",
   "source":[
    "print(f\"\\nTylko książki:\\n{books_only}\")\n",
    "print(f\"z vat:\\n{df}\")\n",
    "print(f\"\\nPodsumowanie:\\n{summary}\")\n",
    "print(f\"\\n Top spenderzy:\\n{top_spenders}\")"
   ],
   "execution_count":12,
   "outputs":[
    {
     "name":"stdout",
     "text":[
      "\n",
      "Tylko książki:\n",
      "   order_id customer category  amount order_date  VAT_23\n",
      "1       102   Marcin    books      67 2025-08-01   15.41\n",
      "2       103      Ewa    books     101 2025-08-02   23.23\n",
      "4       105     Anna    books      45 2025-08-05   10.35\n",
      "6       107   Marcin    books     213 2025-08-07   48.99\n",
      "z vat:\n",
      "   order_id customer     category  amount order_date  VAT_23\n",
      "0       101      Ewa  electronics    1200 2025-08-01  276.00\n",
      "1       102   Marcin        books      67 2025-08-01   15.41\n",
      "2       103      Ewa        books     101 2025-08-02   23.23\n",
      "3       104    Tomek   electonics     879 2025-08-02  202.17\n",
      "4       105     Anna        books      45 2025-08-05   10.35\n",
      "5       106      Ewa       sports     899 2025-08-06  206.77\n",
      "6       107   Marcin        books     213 2025-08-07   48.99\n",
      "\n",
      "Podsumowanie:\n",
      "  customer     category  total_spent  orders\n",
      "0     Anna        books           45       1\n",
      "1      Ewa        books          101       1\n",
      "2      Ewa  electronics         1200       1\n",
      "3      Ewa       sports          899       1\n",
      "4   Marcin        books          280       2\n",
      "5    Tomek   electonics          879       1\n",
      "\n",
      " Top spenderzy:\n",
      "  customer     category  total_spent  orders\n",
      "2      Ewa  electronics         1200       1\n",
      "3      Ewa       sports          899       1\n",
      "5    Tomek   electonics          879       1\n",
      "4   Marcin        books          280       2\n",
      "1      Ewa        books          101       1\n",
      "0     Anna        books           45       1\n"
     ],
     "output_type":"stream"
    }
   ],
   "metadata":{
    "datalore":{
     "node_id":"SbhHHhO6YBst3MtlbXQdHJ",
     "type":"CODE",
     "hide_input_from_viewers":true,
     "hide_output_from_viewers":true
    }
   }
  }
 ],
 "metadata":{
  "kernelspec":{
   "display_name":"Python",
   "language":"python",
   "name":"python"
  },
  "datalore":{
   "computation_mode":"JUPYTER",
   "package_manager":"pip",
   "base_environment":"default_3_11",
   "packages":[],
   "report_row_ids":[],
   "report_tabs":[],
   "version":4
  }
 },
 "nbformat":4,
 "nbformat_minor":4
}