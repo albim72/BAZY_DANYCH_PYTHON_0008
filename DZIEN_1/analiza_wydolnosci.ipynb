{
 "cells":[
  {
   "cell_type":"code",
   "source":[
    "print(\"to jest pierwszy notebook\")"
   ],
   "execution_count":32,
   "outputs":[
    {
     "name":"stdout",
     "text":[
      "to jest pierwszy notebook\n"
     ],
     "output_type":"stream"
    }
   ],
   "metadata":{
    "datalore":{
     "node_id":"1aJG2CGm3qcW5N0CY3mLLt",
     "type":"CODE",
     "hide_input_from_viewers":true,
     "hide_output_from_viewers":true
    }
   }
  },
  {
   "cell_type":"code",
   "source":[
    "def policz(a,b):\n",
    "    return 2*a+b-3"
   ],
   "execution_count":33,
   "outputs":[],
   "metadata":{
    "datalore":{
     "node_id":"nNycEHiqzaVZymIg3Wew7l",
     "type":"CODE",
     "hide_input_from_viewers":true,
     "hide_output_from_viewers":true
    }
   }
  },
  {
   "cell_type":"code",
   "source":[
    "a,b = 4.7,6.7"
   ],
   "execution_count":34,
   "outputs":[],
   "metadata":{
    "datalore":{
     "node_id":"i6ZUyKBkaQFsIgb4uaybwZ",
     "type":"CODE",
     "hide_input_from_viewers":true,
     "hide_output_from_viewers":true
    }
   }
  },
  {
   "cell_type":"code",
   "source":[
    "a,b=b,a"
   ],
   "execution_count":35,
   "outputs":[],
   "metadata":{
    "datalore":{
     "node_id":"hLsSHySIqUe9LFhzLbDC6B",
     "type":"CODE",
     "hide_input_from_viewers":true,
     "hide_output_from_viewers":true
    }
   }
  },
  {
   "cell_type":"code",
   "source":[
    "policz(a,b)"
   ],
   "execution_count":36,
   "outputs":[
    {
     "data":{
      "text\/plain":[
       "15.100000000000001"
      ]
     },
     "metadata":{},
     "output_type":"display_data"
    }
   ],
   "metadata":{
    "datalore":{
     "node_id":"18EwOHMPI0xZKmdzHlzkja",
     "type":"CODE",
     "hide_input_from_viewers":true,
     "hide_output_from_viewers":true
    }
   }
  },
  {
   "cell_type":"markdown",
   "source":[
    "# To jest przykład w numpy - pomiar wydolności biegaczy"
   ],
   "attachments":{},
   "metadata":{
    "datalore":{
     "node_id":"spIHmjhYUN7g71hzLPQmyO",
     "type":"MD",
     "hide_input_from_viewers":true,
     "hide_output_from_viewers":true
    }
   }
  },
  {
   "cell_type":"markdown",
   "source":[
    "<div style=\"background-color:brown; border-radius:10px; padding:10px;\">\n",
    "    <span style=\"font-size:16pt; color:lightblue; font-weight:bold;\">Generowanie<\/span> \n",
    "    <span style=\"font-size:14pt; color:yellow;\">i statystyka danych w pomiarze wydolności biegaczy<\/span>.\n",
    "<\/div>\n"
   ],
   "attachments":{},
   "metadata":{
    "datalore":{
     "node_id":"lWMSTXzWTvqo3ytxMUHuyL",
     "type":"MD",
     "hide_input_from_viewers":true,
     "hide_output_from_viewers":true
    }
   }
  },
  {
   "cell_type":"code",
   "source":[
    "import numpy as np"
   ],
   "execution_count":37,
   "outputs":[],
   "metadata":{
    "datalore":{
     "node_id":"PvWl1Td6GzieTwXJhB9nPb",
     "type":"CODE",
     "hide_input_from_viewers":true,
     "hide_output_from_viewers":true
    }
   }
  },
  {
   "cell_type":"code",
   "source":[
    "#generujemy losowe czasy biegu na 10km (w minutach) dla 50 biegaczy\n",
    "np.random.seed(42)\n",
    "times = np.random.normal(loc=52,scale=8,size=100) #średnia 50min, odchylenie 5"
   ],
   "execution_count":38,
   "outputs":[],
   "metadata":{
    "datalore":{
     "node_id":"g19QDd31ysRhSisyTTXCdQ",
     "type":"CODE",
     "hide_input_from_viewers":true,
     "hide_output_from_viewers":true
    }
   }
  },
  {
   "cell_type":"code",
   "source":[
    "times\n",
    "#ipython"
   ],
   "execution_count":39,
   "outputs":[
    {
     "data":{
      "text\/html":[
       "<pre>array([55.97371322, 50.89388559, 57.1815083 , 64.18423885, 50.126773  ,\n",
       "       50.12690434, 64.63370252, 58.13947783, 48.24420491, 56.34048035,\n",
       "       48.29265846, 48.27416197, 53.93569817, 36.69375804, 38.20065734,\n",
       "       47.50169977, 43.89735104, 54.51397866, 44.7358074 , 40.70157039,\n",
       "       63.72519015, 50.1937896 , 52.54022564, 40.60201451, 47.6449382 ,\n",
       "       52.88738072, 42.79205138, 55.00558415, 47.19489048, 49.66645   ,\n",
       "       47.1863471 , 66.81822548, 51.8920222 , 43.53831257, 58.5803593 ,\n",
       "       42.2332508 , 53.67090876, 36.32263901, 41.37451161, 53.57488989,\n",
       "       57.90773264, 53.37094625, 51.07481374, 49.59117044, 40.17182408,\n",
       "       46.24124633, 48.31488983, 60.45697781, 54.74894632, 37.89567876,\n",
       "       54.59267176, 48.91934176, 46.584624  , 56.89341031, 60.24799618,\n",
       "       59.45024095, 45.28625981, 49.52630099, 54.65010745, 59.80436102,\n",
       "       48.1666061 , 50.51472819, 43.14932021, 42.43034701, 58.50020658,\n",
       "       62.84992023, 51.42391903, 60.02826318, 54.8930882 , 46.83904196,\n",
       "       54.89116484, 64.30429253, 51.71339169, 64.51714925, 31.04203917,\n",
       "       58.57522004, 52.69637655, 49.6079412 , 52.73408621, 36.09944868,\n",
       "       50.2426249 , 54.85690057, 63.82315236, 47.85383825, 45.53205118,\n",
       "       47.98594365, 59.32321694, 54.63000888, 47.76191837, 56.10613946,\n",
       "       52.77662039, 59.74915992, 46.38357525, 49.37870283, 48.86313477,\n",
       "       40.29188041, 54.36896222, 54.08844218, 52.04090765, 50.12330293])<\/pre>"
      ]
     },
     "metadata":{},
     "output_type":"display_data"
    }
   ],
   "metadata":{
    "datalore":{
     "node_id":"mAnpnnbOsLuaT6DBcsPsvA",
     "type":"CODE",
     "hide_input_from_viewers":true,
     "hide_output_from_viewers":true
    }
   }
  },
  {
   "cell_type":"code",
   "source":[
    "print(f\"średni czas: {round(np.mean(times),2)}\")\n",
    "print(f\"mediana czasu: {round(np.median(times),2)}\")\n",
    "print(f\"Min\/Max: {np.min(times)}\/{np.max(times)}\")"
   ],
   "execution_count":40,
   "outputs":[
    {
     "name":"stdout",
     "text":[
      "średni czas: 51.17\n",
      "mediana czasu: 50.98\n",
      "Min\/Max: 31.042039167282045\/66.8182254760715\n"
     ],
     "output_type":"stream"
    }
   ],
   "metadata":{
    "datalore":{
     "node_id":"QKEff5HPmTIwVFmX3Q83Mc",
     "type":"CODE",
     "hide_input_from_viewers":true,
     "hide_output_from_viewers":true
    }
   }
  },
  {
   "cell_type":"code",
   "source":[
    "#normalizacja czasu: średnia = 0, odchylenie = 1\n",
    "normalized = (times - np.mean(times))\/np.std(times)"
   ],
   "execution_count":41,
   "outputs":[],
   "metadata":{
    "datalore":{
     "node_id":"EgsScwtz7KTem5lohatmyJ",
     "type":"CODE",
     "hide_input_from_viewers":true,
     "hide_output_from_viewers":true
    }
   }
  },
  {
   "cell_type":"code",
   "source":[
    "#indeksy najleszych 5 biegaczy\n",
    "best_idx = np.argsort(times)[:5]\n",
    "print(f\"najleosi bigaczy: {times[best_idx]}\")"
   ],
   "execution_count":42,
   "outputs":[
    {
     "name":"stdout",
     "text":[
      "najleosi bigaczy: [31.04203917 36.09944868 36.32263901 36.69375804 37.89567876]\n"
     ],
     "output_type":"stream"
    }
   ],
   "metadata":{
    "datalore":{
     "node_id":"IB86mGDwoIbMbevV1XWFAL",
     "type":"CODE",
     "hide_input_from_viewers":true,
     "hide_output_from_viewers":true
    }
   }
  }
 ],
 "metadata":{
  "kernelspec":{
   "display_name":"Python",
   "language":"python",
   "name":"python"
  },
  "datalore":{
   "computation_mode":"JUPYTER",
   "package_manager":"pip",
   "base_environment":"default_3_11",
   "packages":[],
   "report_row_ids":[],
   "report_tabs":[],
   "version":4
  }
 },
 "nbformat":4,
 "nbformat_minor":4
}