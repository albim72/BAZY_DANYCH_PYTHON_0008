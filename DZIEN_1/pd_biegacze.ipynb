{
 "cells":[
  {
   "cell_type":"code",
   "source":[
    "import pandas as pd\n",
    "import matplotlib.pyplot as plt"
   ],
   "execution_count":1,
   "outputs":[],
   "metadata":{
    "datalore":{
     "node_id":"Pn77cC6NsyCg1v9Jr7jYsh",
     "type":"CODE",
     "hide_input_from_viewers":true,
     "hide_output_from_viewers":true
    }
   }
  },
  {
   "cell_type":"code",
   "source":[
    "# --- Dane ---\n",
    "races = {\n",
    "    \"name\": [\"Ewa\", \"Marcin\", \"Anna\", \"Tomek\", \"Ewa\", \"Marcin\", \"Anna\"],\n",
    "    \"race\": [\"10K\", \"10K\", \"10K\", \"10K\", \"Half\", \"Half\", \"Half\"],\n",
    "    \"time_min\": [52, 49, 55, 60, 120, 115, 130],\n",
    "    \"date\": pd.to_datetime([\"2025-06-01\", \"2025-06-01\", \"2025-06-01\", \"2025-06-01\",\n",
    "                             \"2025-07-15\", \"2025-07-15\", \"2025-07-15\"])\n",
    "}\n",
    "df = pd.DataFrame(races)\n",
    "df.head()"
   ],
   "execution_count":2,
   "outputs":[
    {
     "data":{
      "text\/html":[
       "<div>\n",
       "<style scoped>\n",
       "    .dataframe tbody tr th:only-of-type {\n",
       "        vertical-align: middle;\n",
       "    }\n",
       "\n",
       "    .dataframe tbody tr th {\n",
       "        vertical-align: top;\n",
       "    }\n",
       "\n",
       "    .dataframe thead th {\n",
       "        text-align: right;\n",
       "    }\n",
       "<\/style>\n",
       "<table border=\"1\" class=\"dataframe\">\n",
       "  <thead>\n",
       "    <tr style=\"text-align: right;\">\n",
       "      <th><\/th>\n",
       "      <th>name<\/th>\n",
       "      <th>race<\/th>\n",
       "      <th>time_min<\/th>\n",
       "      <th>date<\/th>\n",
       "    <\/tr>\n",
       "  <\/thead>\n",
       "  <tbody>\n",
       "    <tr>\n",
       "      <th>0<\/th>\n",
       "      <td>Ewa<\/td>\n",
       "      <td>10K<\/td>\n",
       "      <td>52<\/td>\n",
       "      <td>2025-06-01<\/td>\n",
       "    <\/tr>\n",
       "    <tr>\n",
       "      <th>1<\/th>\n",
       "      <td>Marcin<\/td>\n",
       "      <td>10K<\/td>\n",
       "      <td>49<\/td>\n",
       "      <td>2025-06-01<\/td>\n",
       "    <\/tr>\n",
       "    <tr>\n",
       "      <th>2<\/th>\n",
       "      <td>Anna<\/td>\n",
       "      <td>10K<\/td>\n",
       "      <td>55<\/td>\n",
       "      <td>2025-06-01<\/td>\n",
       "    <\/tr>\n",
       "    <tr>\n",
       "      <th>3<\/th>\n",
       "      <td>Tomek<\/td>\n",
       "      <td>10K<\/td>\n",
       "      <td>60<\/td>\n",
       "      <td>2025-06-01<\/td>\n",
       "    <\/tr>\n",
       "    <tr>\n",
       "      <th>4<\/th>\n",
       "      <td>Ewa<\/td>\n",
       "      <td>Half<\/td>\n",
       "      <td>120<\/td>\n",
       "      <td>2025-07-15<\/td>\n",
       "    <\/tr>\n",
       "  <\/tbody>\n",
       "<\/table>\n",
       "<\/div>"
      ]
     },
     "metadata":{},
     "output_type":"display_data"
    }
   ],
   "metadata":{
    "datalore":{
     "node_id":"ZGvFKwhOLbUFrdu9GYPAFh",
     "type":"CODE",
     "hide_input_from_viewers":true,
     "hide_output_from_viewers":true
    }
   }
  },
  {
   "cell_type":"code",
   "source":[
    "# --- 1. Średni czas per bieg i dystans ---\n",
    "avg_times = df.groupby(\"race\")[\"time_min\"].mean()\n",
    "\n",
    "# --- 2. Najlepsze czasy każdej osoby ---\n",
    "best_times = df.groupby(\"name\")[\"time_min\"].min()\n",
    "\n",
    "# --- 3. Filtrowanie po progu czasowym (Half < 125 min) ---\n",
    "half_fast = df[(df[\"race\"] == \"Half\") & (df[\"time_min\"] < 125)]"
   ],
   "execution_count":3,
   "outputs":[],
   "metadata":{
    "datalore":{
     "node_id":"yAIJ3z9H6W21H2BbAhpS0W",
     "type":"CODE",
     "hide_input_from_viewers":true,
     "hide_output_from_viewers":true
    }
   }
  },
  {
   "cell_type":"code",
   "source":[
    "# --- 4. Wykres średnich czasów ---\n",
    "avg_times.plot(kind=\"bar\", title=\"Średni czas w minutach\", ylabel=\"min\", xlabel=\"Dystans\")\n",
    "plt.tight_layout()\n",
    "plt.show()\n",
    "\n",
    "print(\"\\nŚrednie czasy:\\n\", avg_times)\n",
    "print(\"\\nNajlepsze czasy zawodników:\\n\", best_times)\n",
    "print(\"\\nSzybsi w półmaratonie:\\n\", half_fast)"
   ],
   "execution_count":4,
   "outputs":[
    {
     "name":"stdout",
     "text":[
      "\n",
      "Średnie czasy:\n",
      " race\n",
      "10K      54.000000\n",
      "Half    121.666667\n",
      "Name: time_min, dtype: float64\n",
      "\n",
      "Najlepsze czasy zawodników:\n",
      " name\n",
      "Anna      55\n",
      "Ewa       52\n",
      "Marcin    49\n",
      "Tomek     60\n",
      "Name: time_min, dtype: int64\n",
      "\n",
      "Szybsi w półmaratonie:\n",
      "      name  race  time_min       date\n",
      "4     Ewa  Half       120 2025-07-15\n",
      "5  Marcin  Half       115 2025-07-15\n"
     ],
     "output_type":"stream"
    },
    {
     "data":{
      "image\/png":"[encoded data removed]"
     },
     "metadata":{
      "image\/png":{}
     },
     "output_type":"display_data"
    }
   ],
   "metadata":{
    "datalore":{
     "node_id":"C2gmnbszIddKtU3yKkRIN4",
     "type":"CODE",
     "hide_input_from_viewers":true,
     "hide_output_from_viewers":true
    }
   }
  }
 ],
 "metadata":{
  "kernelspec":{
   "display_name":"Python",
   "language":"python",
   "name":"python"
  },
  "datalore":{
   "computation_mode":"JUPYTER",
   "package_manager":"pip",
   "base_environment":"default_3_11",
   "packages":[],
   "report_row_ids":[],
   "report_tabs":[],
   "version":4
  }
 },
 "nbformat":4,
 "nbformat_minor":4
}