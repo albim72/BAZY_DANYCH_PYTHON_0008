{
 "cells":[
  {
   "cell_type":"code",
   "source":[
    "import pandas as pd\n",
    "import numpy as np\n",
    "import matplotlib.pyplot as plt\n",
    "import json\n",
    "from pathlib import Path"
   ],
   "execution_count":1,
   "outputs":[],
   "metadata":{
    "datalore":{
     "node_id":"sOtTJlEVpvnj8miq3f42BI",
     "type":"CODE",
     "hide_input_from_viewers":true,
     "hide_output_from_viewers":true
    }
   }
  },
  {
   "cell_type":"code",
   "source":[
    "#ścieżki do plików\n",
    "data_dir = Path(\"data\")\n",
    "sales_file = data_dir \/ \"sales.csv\"\n",
    "marketing_file = data_dir \/ \"marketing.xlsx\"\n",
    "currencies_file = data_dir \/ \"currencies.json\""
   ],
   "execution_count":5,
   "outputs":[],
   "metadata":{
    "datalore":{
     "node_id":"EjGN31Lv18E2Xy1nALRso8",
     "type":"CODE",
     "hide_input_from_viewers":true,
     "hide_output_from_viewers":true
    }
   }
  },
  {
   "cell_type":"code",
   "source":[
    "!pip install openpyxl"
   ],
   "execution_count":7,
   "outputs":[
    {
     "name":"stdout",
     "text":[
      "Collecting openpyxl\r\n",
      "  Downloading openpyxl-3.1.5-py2.py3-none-any.whl.metadata (2.5 kB)\r\n",
      "Collecting et-xmlfile (from openpyxl)\r\n",
      "  Downloading et_xmlfile-2.0.0-py3-none-any.whl.metadata (2.7 kB)\r\n",
      "Downloading openpyxl-3.1.5-py2.py3-none-any.whl (250 kB)\r\n",
      "Downloading et_xmlfile-2.0.0-py3-none-any.whl (18 kB)\r\n",
      "Installing collected packages: et-xmlfile, openpyxl\r\n",
      "Successfully installed et-xmlfile-2.0.0 openpyxl-3.1.5\r\n"
     ],
     "output_type":"stream"
    }
   ],
   "metadata":{
    "datalore":{
     "node_id":"Quct1fNaJ3v9pur10UAL0e",
     "type":"CODE",
     "hide_input_from_viewers":true,
     "hide_output_from_viewers":true
    }
   }
  },
  {
   "cell_type":"code",
   "source":[
    "#wczytywanie danych\n",
    "sales_df = pd.read_csv(sales_file,parse_dates=[\"date\"])\n",
    "marketing_df = pd.read_excel(marketing_file,parse_dates=[\"date\"])\n",
    "with open(currencies_file,\"r\",encoding=\"utf-8\") as f:\n",
    "    currencies_data = json.load(f)"
   ],
   "execution_count":8,
   "outputs":[],
   "metadata":{
    "datalore":{
     "node_id":"wae3er6X2WR9Fw33bhiZBt",
     "type":"CODE",
     "hide_input_from_viewers":true,
     "hide_output_from_viewers":true
    }
   }
  },
  {
   "cell_type":"code",
   "source":[
    "#przygotowanie DataFrame z kursami walut\n",
    "currencies_rows = []\n",
    "for date_str,rates in currencies_data.items():\n",
    "    currencies_rows.append({\n",
    "        \"date\":pd.to_datetime(date_str),\n",
    "        \"USD\":rates[\"USD\"],\n",
    "        \"EUR\":rates[\"EUR\"]\n",
    "    })\n",
    "currencies_df = pd.DataFrame(currencies_rows)"
   ],
   "execution_count":9,
   "outputs":[],
   "metadata":{
    "datalore":{
     "node_id":"xnt1rUyNv5ozJEUGGGKes4",
     "type":"CODE",
     "hide_input_from_viewers":true,
     "hide_output_from_viewers":true
    }
   }
  },
  {
   "cell_type":"code",
   "source":[
    "#scalanie wszystkich danych\n",
    "df = sales_df.merge(marketing_df,on=[\"date\",\"country\"],how=\"left\")\n",
    "df = df.merge(currencies_df,on=\"date\",how=\"left\")\n",
    "df.head()"
   ],
   "execution_count":10,
   "outputs":[
    {
     "data":{
      "text\/html":[
       "<div>\n",
       "<style scoped>\n",
       "    .dataframe tbody tr th:only-of-type {\n",
       "        vertical-align: middle;\n",
       "    }\n",
       "\n",
       "    .dataframe tbody tr th {\n",
       "        vertical-align: top;\n",
       "    }\n",
       "\n",
       "    .dataframe thead th {\n",
       "        text-align: right;\n",
       "    }\n",
       "<\/style>\n",
       "<table border=\"1\" class=\"dataframe\">\n",
       "  <thead>\n",
       "    <tr style=\"text-align: right;\">\n",
       "      <th><\/th>\n",
       "      <th>date<\/th>\n",
       "      <th>country<\/th>\n",
       "      <th>sales_pln<\/th>\n",
       "      <th>marketing_spend_pln<\/th>\n",
       "      <th>USD<\/th>\n",
       "      <th>EUR<\/th>\n",
       "    <\/tr>\n",
       "  <\/thead>\n",
       "  <tbody>\n",
       "    <tr>\n",
       "      <th>0<\/th>\n",
       "      <td>2025-01-01<\/td>\n",
       "      <td>Poland<\/td>\n",
       "      <td>12000<\/td>\n",
       "      <td>3000<\/td>\n",
       "      <td>3.95<\/td>\n",
       "      <td>4.25<\/td>\n",
       "    <\/tr>\n",
       "    <tr>\n",
       "      <th>1<\/th>\n",
       "      <td>2025-01-01<\/td>\n",
       "      <td>Germany<\/td>\n",
       "      <td>15000<\/td>\n",
       "      <td>4000<\/td>\n",
       "      <td>3.95<\/td>\n",
       "      <td>4.25<\/td>\n",
       "    <\/tr>\n",
       "    <tr>\n",
       "      <th>2<\/th>\n",
       "      <td>2025-01-01<\/td>\n",
       "      <td>USA<\/td>\n",
       "      <td>20000<\/td>\n",
       "      <td>5000<\/td>\n",
       "      <td>3.95<\/td>\n",
       "      <td>4.25<\/td>\n",
       "    <\/tr>\n",
       "    <tr>\n",
       "      <th>3<\/th>\n",
       "      <td>2025-02-01<\/td>\n",
       "      <td>Poland<\/td>\n",
       "      <td>18000<\/td>\n",
       "      <td>3500<\/td>\n",
       "      <td>3.90<\/td>\n",
       "      <td>4.20<\/td>\n",
       "    <\/tr>\n",
       "    <tr>\n",
       "      <th>4<\/th>\n",
       "      <td>2025-02-01<\/td>\n",
       "      <td>Germany<\/td>\n",
       "      <td>16000<\/td>\n",
       "      <td>4200<\/td>\n",
       "      <td>3.90<\/td>\n",
       "      <td>4.20<\/td>\n",
       "    <\/tr>\n",
       "  <\/tbody>\n",
       "<\/table>\n",
       "<\/div>"
      ]
     },
     "metadata":{},
     "output_type":"display_data"
    }
   ],
   "metadata":{
    "datalore":{
     "node_id":"128RHbKlH21J7Wna1M8gkD",
     "type":"CODE",
     "hide_input_from_viewers":true,
     "hide_output_from_viewers":true
    }
   }
  },
  {
   "cell_type":"code",
   "source":[
    "#kowersja sprzedaży na USD\/EUR w zależności od kraju\n",
    "def convert_sales(row):\n",
    "    if row[\"country\"] == \"USA\":\n",
    "        return row[\"sales_pln\"]\/row[\"USD\"],\"USD\"\n",
    "    elif row[\"country\"] == \"Germany\":\n",
    "        return row[\"sales_pln\"]\/row[\"EUR\"],\"EUR\"\n",
    "    else:\n",
    "        return row[\"sales_pln\"],\"PLN\"\n",
    "    \n",
    "# df[[\"sales_foreign\",\"country\"]] = df.apply(lambda r:pd.Series(convert_sales(r)),axis=1)\n",
    "df[[\"sales_foreign\",\"currency\"]] = df.apply(lambda r: pd.Series(convert_sales(r)), axis=1)"
   ],
   "execution_count":17,
   "outputs":[],
   "metadata":{
    "datalore":{
     "node_id":"AQhaKOO2Y8I43D8anYnVMu",
     "type":"CODE",
     "hide_input_from_viewers":true,
     "hide_output_from_viewers":true
    }
   }
  },
  {
   "cell_type":"code",
   "source":[
    "#Analiza NumPy: ROI(Return on Investment)\n",
    "sales_arr = df[\"sales_pln\"].to_numpy()\n",
    "marketing_arr = df[\"marketing_spend_pln\"].to_numpy()\n",
    "roi_arr = (sales_arr - marketing_arr)\/marketing_arr\n",
    "df[\"ROI\"] = np.round(roi_arr,2)"
   ],
   "execution_count":12,
   "outputs":[],
   "metadata":{
    "datalore":{
     "node_id":"fs4NI6R7Na4KLkDZunpZhV",
     "type":"CODE",
     "hide_input_from_viewers":true,
     "hide_output_from_viewers":true
    }
   }
  },
  {
   "cell_type":"code",
   "source":[
    "#wykres porównujący ROI\n",
    "plt.figure(figsize=(8,5))\n",
    "for c in df[\"country\"].unique():\n",
    "    subset = df[df[\"country\"] == c]\n",
    "    plt.plot(subset[\"date\"], subset[\"ROI\"], label=c)\n",
    "\n",
    "plt.xlabel(\"Date\")\n",
    "plt.ylabel(\"ROI\")\n",
    "plt.title(\"ROI per country over time\")\n",
    "plt.legend()\n",
    "plt.show()"
   ],
   "execution_count":19,
   "outputs":[
    {
     "data":{
      "image\/png":"[encoded data removed]"
     },
     "metadata":{
      "image\/png":{}
     },
     "output_type":"display_data"
    }
   ],
   "metadata":{
    "datalore":{
     "node_id":"ln1u4xAnm6fPUBTW9dGwnS",
     "type":"CODE",
     "hide_input_from_viewers":true,
     "hide_output_from_viewers":true
    }
   }
  },
  {
   "cell_type":"code",
   "source":[
    "#wyniki\n",
    "print(\"\\npełny DataFrame\\n\")\n",
    "print(df)\n",
    "print(\"\\średni ROI dla każdego kraju\")\n",
    "print(df.groupby(\"country\")[\"ROI\"].mean().round(2))"
   ],
   "execution_count":20,
   "outputs":[
    {
     "name":"stdout",
     "text":[
      "\n",
      "pełny DataFrame\n",
      "\n",
      "        date country  sales_pln  marketing_spend_pln   USD   EUR  \\\n",
      "0 2025-01-01     PLN      12000                 3000  3.95  4.25   \n",
      "1 2025-01-01     EUR      15000                 4000  3.95  4.25   \n",
      "2 2025-01-01     USD      20000                 5000  3.95  4.25   \n",
      "3 2025-02-01     PLN      18000                 3500  3.90  4.20   \n",
      "4 2025-02-01     EUR      16000                 4200  3.90  4.20   \n",
      "5 2025-02-01     USD      22000                 5500  3.90  4.20   \n",
      "\n",
      "   sales_foreign   ROI currency  \n",
      "0          12000  3.00      PLN  \n",
      "1          15000  2.75      PLN  \n",
      "2          20000  3.00      PLN  \n",
      "3          18000  4.14      PLN  \n",
      "4          16000  2.81      PLN  \n",
      "5          22000  3.00      PLN  \n",
      "\\średni ROI dla każdego kraju\n",
      "country\n",
      "EUR    2.78\n",
      "PLN    3.57\n",
      "USD    3.00\n",
      "Name: ROI, dtype: float64\n"
     ],
     "output_type":"stream"
    }
   ],
   "metadata":{
    "datalore":{
     "node_id":"G98wU234uqAAZ5Dvvc77VD",
     "type":"CODE",
     "hide_input_from_viewers":true,
     "hide_output_from_viewers":true
    }
   }
  },
  {
   "cell_type":"code",
   "source":[],
   "execution_count":null,
   "outputs":[],
   "metadata":{
    "datalore":{
     "node_id":"ehKILKeW8q8RRJi047YYXJ",
     "type":"CODE",
     "hide_input_from_viewers":true,
     "hide_output_from_viewers":true
    }
   }
  }
 ],
 "metadata":{
  "kernelspec":{
   "display_name":"Python",
   "language":"python",
   "name":"python"
  },
  "datalore":{
   "computation_mode":"JUPYTER",
   "package_manager":"pip",
   "base_environment":"default_3_11",
   "packages":[],
   "report_row_ids":[],
   "report_tabs":[],
   "version":4
  }
 },
 "nbformat":4,
 "nbformat_minor":4
}